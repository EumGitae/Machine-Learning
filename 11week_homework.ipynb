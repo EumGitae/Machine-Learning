{
  "nbformat": 4,
  "nbformat_minor": 0,
  "metadata": {
    "colab": {
      "provenance": [],
      "authorship_tag": "ABX9TyPo5sOzBA9MI0b19BrPHwRt",
      "include_colab_link": true
    },
    "kernelspec": {
      "name": "python3",
      "display_name": "Python 3"
    },
    "language_info": {
      "name": "python"
    }
  },
  "cells": [
    {
      "cell_type": "markdown",
      "metadata": {
        "id": "view-in-github",
        "colab_type": "text"
      },
      "source": [
        "<a href=\"https://colab.research.google.com/github/EumGitae/Machine-Learning/blob/main/11week_homework.ipynb\" target=\"_parent\"><img src=\"https://colab.research.google.com/assets/colab-badge.svg\" alt=\"Open In Colab\"/></a>"
      ]
    },
    {
      "cell_type": "markdown",
      "source": [
        "1.  실습 예제에 대해 코딩을 완료하고 평가하라."
      ],
      "metadata": {
        "id": "KTRmqX7p1gLf"
      }
    },
    {
      "cell_type": "code",
      "execution_count": 113,
      "metadata": {
        "id": "PU1PjPO7zVIg"
      },
      "outputs": [],
      "source": [
        "import tensorflow as tf\n",
        "import numpy as np\n",
        "import matplotlib.pyplot as plt"
      ]
    },
    {
      "cell_type": "code",
      "source": [
        "mnist = tf.keras.datasets.mnist\n",
        "\n",
        "(train_x, train_y), (test_x, test_y) = mnist.load_data()\n",
        "\n",
        "train_x, test_x = train_x/255.0, test_x/255.0"
      ],
      "metadata": {
        "id": "3ynvHsE30Iaf"
      },
      "execution_count": 115,
      "outputs": []
    },
    {
      "cell_type": "code",
      "source": [
        "train_x.shape"
      ],
      "metadata": {
        "colab": {
          "base_uri": "https://localhost:8080/"
        },
        "id": "5UlbfKD10O5G",
        "outputId": "aecd86c9-db51-4b97-84f0-7a9e0a69448b"
      },
      "execution_count": 116,
      "outputs": [
        {
          "output_type": "execute_result",
          "data": {
            "text/plain": [
              "(60000, 28, 28)"
            ]
          },
          "metadata": {},
          "execution_count": 116
        }
      ]
    },
    {
      "cell_type": "code",
      "source": [
        "train_x = train_x.reshape((train_x.shape[0], 28, 28, 1))\n",
        "test_x = test_x.reshape((test_x.shape[0], 28, 28, 1))"
      ],
      "metadata": {
        "id": "pg6Iy6R40QiM"
      },
      "execution_count": 117,
      "outputs": []
    },
    {
      "cell_type": "code",
      "source": [
        "# input layer\n",
        "input_h = 28   # input height\n",
        "input_w = 28  # input width\n",
        "input_ch = 1   # input channel : Gray scale\n",
        "\n",
        "# 1st convolution layer\n",
        "k1_h = 3\n",
        "k1_w = 3\n",
        "k1_ch = 32\n",
        "p1_h = 2\n",
        "p1_w = 2\n",
        "# (None, 14, 14, 32)\n",
        "\n",
        "# 2nd convolution layer\n",
        "k2_h = 3\n",
        "k2_w = 3\n",
        "k2_ch = 64\n",
        "p2_h = 2\n",
        "p2_w = 2\n",
        "# (None, 7, 7, 64)\n",
        "\n",
        "# Fully connected : flatten the features (7x7x64)\n",
        "conv_result_size = 7 * 7 * 64\n",
        "n_hidden = 100\n",
        "n_output = 10"
      ],
      "metadata": {
        "id": "fXZGm0wV0Rjm"
      },
      "execution_count": 118,
      "outputs": []
    },
    {
      "cell_type": "code",
      "source": [
        "# Kernel size : [kernel_height, kernel_width, input_ch, output_ch]\n",
        "import tensorflow.compat.v1 as tf\n",
        "tf.disable_v2_behavior()\n",
        "\n",
        "weights = {\n",
        "    'conv1' : tf.Variable(tf.random.normal([k1_h, k1_w, input_ch, k1_ch], stddev = 0.1)),\n",
        "    'conv2' : tf.Variable(tf.random.normal([k2_h, k2_w, k1_ch, k2_ch], stddev = 0.1)),\n",
        "    'hidden' : tf.Variable(tf.random.normal([conv_result_size, n_hidden], stddev = 0.1)),\n",
        "    'output' : tf.Variable(tf.random.normal([n_hidden, n_output], stddev = 0.1))\n",
        "}\n",
        "\n",
        "# bias size : [output_ch] or [neuron_size]\n",
        "biases = {\n",
        "    'conv1' : tf.Variable(tf.random.normal([k1_ch], stddev = 0.1)),\n",
        "    'conv2' : tf.Variable(tf.random.normal([k2_ch], stddev = 0.1)),\n",
        "    'hidden' : tf.Variable(tf.random.normal([n_hidden], stddev = 0.1)),\n",
        "    'output' : tf.Variable(tf.random.normal([n_output], stddev = 0.1))\n",
        "}\n",
        "\n",
        "# input layer : [batch_size, image_height, image_width, channels]\n",
        "# output layer : [batch_size, class_size]\n",
        "x = tf.placeholder(shape=[None, input_h, input_w, input_ch], dtype=tf.float32)\n",
        "y = tf.placeholder(shape=[None, n_output], dtype=tf.float32)"
      ],
      "metadata": {
        "id": "sS8DEVmY0Sfe"
      },
      "execution_count": 119,
      "outputs": []
    },
    {
      "cell_type": "code",
      "source": [
        "# [batch, height, width, channels]\n",
        "\n",
        "def net(x, weights, biases):\n",
        "    conv1 = tf.nn.conv2d(x, weights['conv1'], strides=[1, 1, 1, 1], padding='SAME')\n",
        "    conv1 = tf.nn.relu(tf.add(conv1, biases['conv1']))\n",
        "    maxp1 = tf.nn.max_pool(conv1, ksize=[1, p1_h, p1_w, 1], strides=[1, p1_h, p1_w, 1], padding='VALID')\n",
        "\n",
        "    conv2 = tf.nn.conv2d(maxp1, weights['conv2'], strides=[1, 1, 1, 1], padding='SAME')\n",
        "    conv2 = tf.nn.relu(tf.add(conv2, biases['conv2']))\n",
        "    maxp2 = tf.nn.max_pool(conv2, ksize=[1, p2_h, p2_w, 1], strides=[1, p2_h, p2_w, 1], padding='VALID')\n",
        "\n",
        "\n",
        "    maxp2_flatten = tf.reshape(maxp2, [-1, conv_result_size])\n",
        "\n",
        "    hidden = tf.add(tf.matmul(maxp2_flatten, weights['hidden']), biases['hidden'])\n",
        "    hidden = tf.nn.relu(hidden)\n",
        "    output = tf.add(tf.matmul(hidden, weights['output']), biases['output'])\n",
        "\n",
        "    return output"
      ],
      "metadata": {
        "id": "UykynQqt0TcL"
      },
      "execution_count": 120,
      "outputs": []
    },
    {
      "cell_type": "code",
      "source": [
        "# Loss function\n",
        "\n",
        "LR = 0.0001\n",
        "pred = net(x, weights, biases)\n",
        "loss = tf.nn.softmax_cross_entropy_with_logits(labels=y, logits=pred)\n",
        "loss = tf.reduce_mean(loss)\n",
        "\n",
        "optm = tf.train.AdamOptimizer(learning_rate=LR).minimize(loss)"
      ],
      "metadata": {
        "id": "LWFMlvih0VCw"
      },
      "execution_count": 121,
      "outputs": []
    },
    {
      "cell_type": "code",
      "source": [
        "# Optimization\n",
        "\n",
        "n_batch = 50\n",
        "n_iter = 2500\n",
        "n_prt = 250\n",
        "\n",
        "sess = tf.Session()\n",
        "sess.run(tf.global_variables_initializer())\n",
        "\n",
        "loss_record_train = []\n",
        "loss_record_test = []\n",
        "for epoch in range(n_iter):\n",
        "    # train_x, train_y = mnist.train.next_batch(n_batch)\n",
        "    # train_x = np.reshape(train_x, (-1, 28, 28, 1))\n",
        "    # # train_x = np.reshape(train_x, (n_batch, input_h, input_w, input_ch))\n",
        "    # sess.run(optm, feed_dict={x:train_x, y:train_y})\n",
        "\n",
        "    # Get a random batch of training data\n",
        "    batch_indices = np.random.choice(train_x.shape[0], size=n_batch, replace=False)\n",
        "    batch_x = train_x[batch_indices]\n",
        "    batch_y = train_y[batch_indices]\n",
        "\n",
        "    batch_x = np.reshape(batch_x, (-1, 28, 28, 1))\n",
        "    # batch_x = np.reshape(batch_x, (n_batch, input_h, input_w, input_ch))\n",
        "    # Convert labels to one-hot encoding if necessary\n",
        "    batch_y = tf.keras.utils.to_categorical(batch_y, num_classes=10)  # Adjust num_classes if needed\n",
        "\n",
        "    sess.run(optm, feed_dict={x:batch_x, y:batch_y})\n",
        "\n",
        "    if epoch % n_prt == 0:\n",
        "        # test_x, test_y = mnist.test.next_batch(n_batch)\n",
        "        # test_x = test_x.reshape((n_batch, input_h, input_w, input_ch))\n",
        "        # c1 = sess.run(loss, feed_dict={x:train_x, y:train_y})\n",
        "        # c2 = sess.run(loss, feed_dict={x:test_x, y:test_y})\n",
        "\n",
        "        # Get a random batch of test data\n",
        "        test_batch_indices = np.random.choice(test_x.shape[0], size=n_batch, replace=False)\n",
        "        test_batch_x = test_x[test_batch_indices]\n",
        "        test_batch_y = test_y[test_batch_indices]\n",
        "\n",
        "        test_batch_x = test_batch_x.reshape((n_batch, input_h, input_w, input_ch))\n",
        "        # Convert labels to one-hot encoding if necessary\n",
        "        test_batch_y = tf.keras.utils.to_categorical(test_batch_y, num_classes=10)  # Adjust num_classes if needed\n",
        "        c1 = sess.run(loss, feed_dict={x: batch_x, y: batch_y})\n",
        "        c2 = sess.run(loss, feed_dict={x: test_batch_x, y: test_batch_y})\n",
        "\n",
        "        loss_record_train.append(c1)\n",
        "        loss_record_test.append(c2)\n",
        "        print(\"Iter : {}\".format(epoch))\n",
        "        print(\"Train Loss : {}\".format(c1))\n",
        "        print(\"Cost : {}\".format(c2))\n",
        "\n",
        "plt.figure(figsize = (10,8))\n",
        "plt.plot(np.arange(len(loss_record_train))*n_prt, loss_record_train, 'r', label = 'Train')\n",
        "plt.plot(np.arange(len(loss_record_test))*n_prt, loss_record_test, 'b', label = 'Test')\n",
        "plt.xlabel('Iteration', fontsize = 15)\n",
        "plt.ylabel('Loss', fontsize = 15)\n",
        "plt.legend(fontsize = 12)\n",
        "plt.ylim([0, np.max(loss_record_train)])\n",
        "plt.show()"
      ],
      "metadata": {
        "colab": {
          "base_uri": "https://localhost:8080/",
          "height": 1000
        },
        "id": "g7pHD6ig0WCL",
        "outputId": "a9f6faa8-31c5-4c4a-bc65-85936b5b8994"
      },
      "execution_count": 122,
      "outputs": [
        {
          "output_type": "stream",
          "name": "stdout",
          "text": [
            "Iter : 0\n",
            "Train Loss : 2.5492541790008545\n",
            "Cost : 2.6846587657928467\n",
            "Iter : 250\n",
            "Train Loss : 0.5091034770011902\n",
            "Cost : 0.643969714641571\n",
            "Iter : 500\n",
            "Train Loss : 0.3840530514717102\n",
            "Cost : 0.3997245728969574\n",
            "Iter : 750\n",
            "Train Loss : 0.21216410398483276\n",
            "Cost : 0.4270683228969574\n",
            "Iter : 1000\n",
            "Train Loss : 0.08942045271396637\n",
            "Cost : 0.11930201202630997\n",
            "Iter : 1250\n",
            "Train Loss : 0.1398133635520935\n",
            "Cost : 0.07160075008869171\n",
            "Iter : 1500\n",
            "Train Loss : 0.1364452838897705\n",
            "Cost : 0.1167995035648346\n",
            "Iter : 1750\n",
            "Train Loss : 0.19067634642124176\n",
            "Cost : 0.11923350393772125\n",
            "Iter : 2000\n",
            "Train Loss : 0.09867565333843231\n",
            "Cost : 0.07123273611068726\n",
            "Iter : 2250\n",
            "Train Loss : 0.04381483048200607\n",
            "Cost : 0.1570221483707428\n"
          ]
        },
        {
          "output_type": "display_data",
          "data": {
            "text/plain": [
              "<Figure size 1000x800 with 1 Axes>"
            ],
            "image/png": "[encoded data removed]"
          },
          "metadata": {}
        }
      ]
    },
    {
      "cell_type": "code",
      "source": [
        "# Evaluation\n",
        "# Get a random batch of test data\n",
        "test_batch_indices = np.random.choice(test_x.shape[0], size=n_batch, replace=False)\n",
        "test_batch_x = test_x[test_batch_indices]\n",
        "test_batch_y = test_y[test_batch_indices]\n",
        "\n",
        "test_batch_x = test_batch_x.reshape((n_batch, input_h, input_w, input_ch))  # Reshape the batch if needed\n",
        "# Convert labels to one-hot encoding if necessary\n",
        "test_batch_y = tf.keras.utils.to_categorical(test_batch_y, num_classes=10)  # Adjust num_classes if needed\n",
        "\n",
        "my_pred = sess.run(pred, feed_dict={x: test_batch_x.reshape(-1, 28, 28, 1)})\n",
        "my_pred = np.argmax(my_pred, axis=1)\n",
        "\n",
        "labels = np.argmax(test_batch_y, axis=1)\n",
        "\n",
        "accr = np.mean(np.equal(my_pred, labels))\n",
        "print(\"Accuracy : {}\".format(accr*100))"
      ],
      "metadata": {
        "colab": {
          "base_uri": "https://localhost:8080/"
        },
        "id": "e2cdUATM0Yxm",
        "outputId": "0195a9be-6ebd-4f7f-bdcc-814f18c12248"
      },
      "execution_count": 123,
      "outputs": [
        {
          "output_type": "stream",
          "name": "stdout",
          "text": [
            "Accuracy : 96.0\n"
          ]
        }
      ]
    },
    {
      "cell_type": "code",
      "source": [
        "# Get a random batch of test data\n",
        "n_batch = 1\n",
        "test_batch_indices = np.random.choice(test_x.shape[0], size=n_batch, replace=False)\n",
        "test_batch_x = test_x[test_batch_indices]\n",
        "test_batch_y = test_y[test_batch_indices]\n",
        "\n",
        "test_batch_x = test_batch_x.reshape((n_batch, input_h, input_w, input_ch))  # Reshape the batch if needed\n",
        "# Convert labels to one-hot encoding if necessary\n",
        "test_batch_y = tf.keras.utils.to_categorical(test_batch_y, num_classes=10)  # Adjust num_classes if needed\n",
        "\n",
        "logits = sess.run(tf.nn.softmax(pred), feed_dict={x: test_batch_x.reshape(-1, 28, 28, 1)})\n",
        "predict = np.argmax(logits)\n",
        "\n",
        "plt.figure(figsize = (12, 5))\n",
        "plt.subplot(1,2,1)\n",
        "plt.imshow(test_batch_x.reshape(28, 28), 'gray')\n",
        "plt.axis('off')\n",
        "plt.subplot(1,2,2)\n",
        "plt.stem(logits.ravel())\n",
        "plt.show()\n",
        "\n",
        "np.set_printoptions(precision = 2, suppress = True)\n",
        "print('Prediction : {}'.format(predict))\n",
        "print('Probability : {}'.format(logits.ravel()))"
      ],
      "metadata": {
        "colab": {
          "base_uri": "https://localhost:8080/",
          "height": 437
        },
        "id": "dUJMOL8q1A3X",
        "outputId": "a7cc71a9-9fdc-4f52-e9b3-2ed5a36dce8a"
      },
      "execution_count": 128,
      "outputs": [
        {
          "output_type": "display_data",
          "data": {
            "text/plain": [
              "<Figure size 1200x500 with 2 Axes>"
            ],
            "image/png": "[encoded data removed]"
          },
          "metadata": {}
        },
        {
          "output_type": "stream",
          "name": "stdout",
          "text": [
            "Prediction : 7\n",
            "Probability : [0. 0. 0. 0. 0. 0. 0. 1. 0. 0.]\n"
          ]
        }
      ]
    },
    {
      "cell_type": "markdown",
      "source": [
        "2. 위의 문제에서 Convolution Layer(conv3), Fully connected layer(FC2) 를 1개씩\\\n",
        "추가하고, 정확도가 높아지는지 평가하라"
      ],
      "metadata": {
        "id": "sad9QERR2BQw"
      }
    },
    {
      "cell_type": "code",
      "source": [
        "mnist = tf.keras.datasets.mnist\n",
        "\n",
        "(train_x, train_y), (test_x, test_y) = mnist.load_data()\n",
        "\n",
        "train_x, test_x = train_x/255.0, test_x/255.0"
      ],
      "metadata": {
        "id": "KyBTYj891B1i"
      },
      "execution_count": 134,
      "outputs": []
    },
    {
      "cell_type": "code",
      "source": [
        "train_x.shape"
      ],
      "metadata": {
        "colab": {
          "base_uri": "https://localhost:8080/"
        },
        "id": "3ziV4Kww2Ky9",
        "outputId": "24335e8d-5312-4877-ebac-ded8d2823630"
      },
      "execution_count": 135,
      "outputs": [
        {
          "output_type": "execute_result",
          "data": {
            "text/plain": [
              "(60000, 28, 28)"
            ]
          },
          "metadata": {},
          "execution_count": 135
        }
      ]
    },
    {
      "cell_type": "code",
      "source": [
        "train_x = train_x.reshape((train_x.shape[0], 28, 28, 1))\n",
        "test_x = test_x.reshape((test_x.shape[0], 28, 28, 1))"
      ],
      "metadata": {
        "id": "xYkjF-DU2MPZ"
      },
      "execution_count": 136,
      "outputs": []
    },
    {
      "cell_type": "code",
      "source": [
        "# input layer\n",
        "input_h = 28   # input height\n",
        "input_w = 28  # input width\n",
        "input_ch = 1   # input channel : Gray scale\n",
        "\n",
        "# 1st convolution layer\n",
        "k1_h = 3\n",
        "k1_w = 3\n",
        "k1_ch = 32\n",
        "p1_h = 2\n",
        "p1_w = 2\n",
        "# (None, 14, 14, 32)\n",
        "\n",
        "# 2nd convolution layer\n",
        "k2_h = 3\n",
        "k2_w = 3\n",
        "k2_ch = 64\n",
        "p2_h = 2\n",
        "p2_w = 2\n",
        "# (None, 7, 7, 64)\n",
        "\n",
        "# 3nd convolution layer\n",
        "k3_h = 3\n",
        "k3_w = 3\n",
        "k3_ch = 128\n",
        "p3_h = 2\n",
        "p3_w = 2\n",
        "# (None, 4, 4, 128)\n",
        "\n",
        "# Fully connected : flatten the features (7x7x64)\n",
        "conv_result_size = 4 * 4 * 128\n",
        "n_hidden1 = 128\n",
        "n_hidden2 = 625\n",
        "n_output = 10"
      ],
      "metadata": {
        "id": "Z9x1nfDQ2NHl"
      },
      "execution_count": 139,
      "outputs": []
    },
    {
      "cell_type": "code",
      "source": [
        "# Kernel size : [kernel_height, kernel_width, input_ch, output_ch]\n",
        "import tensorflow.compat.v1 as tf\n",
        "tf.disable_v2_behavior()\n",
        "\n",
        "weights = {\n",
        "    'conv1' : tf.Variable(tf.random.normal([k1_h, k1_w, input_ch, k1_ch], stddev = 0.1)),\n",
        "    'conv2' : tf.Variable(tf.random.normal([k2_h, k2_w, k1_ch, k2_ch], stddev = 0.1)),\n",
        "    'conv3' : tf.Variable(tf.random.normal([k3_h, k3_w, k2_ch, k3_ch], stddev = 0.1)),\n",
        "    'hidden1' : tf.Variable(tf.random.normal([conv_result_size, n_hidden1], stddev = 0.1)),\n",
        "    'hidden2' : tf.Variable(tf.random.normal([n_hidden1, n_hidden2], stddev = 0.1)),\n",
        "    'output' : tf.Variable(tf.random.normal([n_hidden2, n_output], stddev = 0.1))\n",
        "}\n",
        "\n",
        "# bias size : [output_ch] or [neuron_size]\n",
        "biases = {\n",
        "    'conv1' : tf.Variable(tf.random.normal([k1_ch], stddev = 0.1)),\n",
        "    'conv2' : tf.Variable(tf.random.normal([k2_ch], stddev = 0.1)),\n",
        "    'conv3' : tf.Variable(tf.random.normal([k3_ch], stddev = 0.1)),\n",
        "    'hidden1' : tf.Variable(tf.random.normal([n_hidden1], stddev = 0.1)),\n",
        "    'hidden2' : tf.Variable(tf.random.normal([n_hidden2], stddev = 0.1)),\n",
        "    'output' : tf.Variable(tf.random.normal([n_output], stddev = 0.1))\n",
        "}\n",
        "\n",
        "# input layer : [batch_size, image_height, image_width, channels]\n",
        "# output layer : [batch_size, class_size]\n",
        "x = tf.placeholder(shape=[None, input_h, input_w, input_ch], dtype=tf.float32)\n",
        "y = tf.placeholder(shape=[None, n_output], dtype=tf.float32)"
      ],
      "metadata": {
        "id": "xk7b6mUR3hoO"
      },
      "execution_count": 140,
      "outputs": []
    },
    {
      "cell_type": "code",
      "source": [
        "# [batch, height, width, channels]\n",
        "\n",
        "def net(x, weights, biases):\n",
        "    conv1 = tf.nn.conv2d(x, weights['conv1'], strides=[1, 1, 1, 1], padding='SAME')\n",
        "    conv1 = tf.nn.relu(tf.add(conv1, biases['conv1']))\n",
        "    maxp1 = tf.nn.max_pool(conv1, ksize=[1, p1_h, p1_w, 1], strides=[1, p1_h, p1_w, 1], padding='VALID')\n",
        "\n",
        "    conv2 = tf.nn.conv2d(maxp1, weights['conv2'], strides=[1, 1, 1, 1], padding='SAME')\n",
        "    conv2 = tf.nn.relu(tf.add(conv2, biases['conv2']))\n",
        "    maxp2 = tf.nn.max_pool(conv2, ksize=[1, p2_h, p2_w, 1], strides=[1, p2_h, p2_w, 1], padding='VALID')\n",
        "\n",
        "    conv3 = tf.nn.conv2d(maxp2, weights['conv3'], strides=[1, 1, 1, 1], padding='SAME')\n",
        "    conv3 = tf.nn.relu(tf.add(conv3, biases['conv3']))\n",
        "    maxp3 = tf.nn.max_pool(conv3, ksize=[1, p3_h, p3_w, 1], strides=[1, p3_h, p3_w, 1], padding='SAME')\n",
        "\n",
        "    maxp3_flatten = tf.reshape(maxp3, [-1, conv_result_size])\n",
        "\n",
        "    hidden1 = tf.add(tf.matmul(maxp3_flatten, weights['hidden1']), biases['hidden1'])\n",
        "    hidden1 = tf.nn.relu(hidden1)\n",
        "\n",
        "    hidden2 = tf.add(tf.matmul(hidden1, weights['hidden2']), biases['hidden2'])\n",
        "    hidden2 = tf.nn.relu(hidden2)\n",
        "\n",
        "    output = tf.add(tf.matmul(hidden2, weights['output']), biases['output'])\n",
        "\n",
        "    return output"
      ],
      "metadata": {
        "id": "Xgn-DAZr33qc"
      },
      "execution_count": 143,
      "outputs": []
    },
    {
      "cell_type": "code",
      "source": [
        "# Loss function\n",
        "\n",
        "LR = 0.0001\n",
        "pred = net(x, weights, biases)\n",
        "loss = tf.nn.softmax_cross_entropy_with_logits(labels=y, logits=pred)\n",
        "loss = tf.reduce_mean(loss)\n",
        "\n",
        "optm = tf.train.AdamOptimizer(learning_rate=LR).minimize(loss)"
      ],
      "metadata": {
        "id": "hGQ9AVfs4VhL"
      },
      "execution_count": 144,
      "outputs": []
    },
    {
      "cell_type": "code",
      "source": [
        "# Optimization\n",
        "\n",
        "n_batch = 50\n",
        "n_iter = 2500\n",
        "n_prt = 250\n",
        "\n",
        "sess = tf.Session()\n",
        "sess.run(tf.global_variables_initializer())\n",
        "\n",
        "loss_record_train = []\n",
        "loss_record_test = []\n",
        "for epoch in range(n_iter):\n",
        "    # train_x, train_y = mnist.train.next_batch(n_batch)\n",
        "    # train_x = np.reshape(train_x, (-1, 28, 28, 1))\n",
        "    # # train_x = np.reshape(train_x, (n_batch, input_h, input_w, input_ch))\n",
        "    # sess.run(optm, feed_dict={x:train_x, y:train_y})\n",
        "\n",
        "    # Get a random batch of training data\n",
        "    batch_indices = np.random.choice(train_x.shape[0], size=n_batch, replace=False)\n",
        "    batch_x = train_x[batch_indices]\n",
        "    batch_y = train_y[batch_indices]\n",
        "\n",
        "    batch_x = np.reshape(batch_x, (-1, 28, 28, 1))\n",
        "    # batch_x = np.reshape(batch_x, (n_batch, input_h, input_w, input_ch))\n",
        "    # Convert labels to one-hot encoding if necessary\n",
        "    batch_y = tf.keras.utils.to_categorical(batch_y, num_classes=10)  # Adjust num_classes if needed\n",
        "\n",
        "    sess.run(optm, feed_dict={x:batch_x, y:batch_y})\n",
        "\n",
        "    if epoch % n_prt == 0:\n",
        "        # test_x, test_y = mnist.test.next_batch(n_batch)\n",
        "        # test_x = test_x.reshape((n_batch, input_h, input_w, input_ch))\n",
        "        # c1 = sess.run(loss, feed_dict={x:train_x, y:train_y})\n",
        "        # c2 = sess.run(loss, feed_dict={x:test_x, y:test_y})\n",
        "\n",
        "        # Get a random batch of test data\n",
        "        test_batch_indices = np.random.choice(test_x.shape[0], size=n_batch, replace=False)\n",
        "        test_batch_x = test_x[test_batch_indices]\n",
        "        test_batch_y = test_y[test_batch_indices]\n",
        "\n",
        "        test_batch_x = test_batch_x.reshape((n_batch, input_h, input_w, input_ch))\n",
        "        # Convert labels to one-hot encoding if necessary\n",
        "        test_batch_y = tf.keras.utils.to_categorical(test_batch_y, num_classes=10)  # Adjust num_classes if needed\n",
        "        c1 = sess.run(loss, feed_dict={x: batch_x, y: batch_y})\n",
        "        c2 = sess.run(loss, feed_dict={x: test_batch_x, y: test_batch_y})\n",
        "\n",
        "        loss_record_train.append(c1)\n",
        "        loss_record_test.append(c2)\n",
        "        print(\"Iter : {}\".format(epoch))\n",
        "        print(\"Train Loss : {}\".format(c1))\n",
        "        print(\"Cost : {}\".format(c2))\n",
        "\n",
        "plt.figure(figsize = (10,8))\n",
        "plt.plot(np.arange(len(loss_record_train))*n_prt, loss_record_train, 'r', label = 'Train')\n",
        "plt.plot(np.arange(len(loss_record_test))*n_prt, loss_record_test, 'b', label = 'Test')\n",
        "plt.xlabel('Iteration', fontsize = 15)\n",
        "plt.ylabel('Loss', fontsize = 15)\n",
        "plt.legend(fontsize = 12)\n",
        "plt.ylim([0, np.max(loss_record_train)])\n",
        "plt.show()"
      ],
      "metadata": {
        "colab": {
          "base_uri": "https://localhost:8080/",
          "height": 1000
        },
        "id": "MRK83xb74ZQO",
        "outputId": "ac12bfed-7b7a-44bd-95e3-92b836bc5a46"
      },
      "execution_count": 145,
      "outputs": [
        {
          "output_type": "stream",
          "name": "stdout",
          "text": [
            "Iter : 0\n",
            "Train Loss : 3.379542350769043\n",
            "Cost : 3.151230573654175\n",
            "Iter : 250\n",
            "Train Loss : 0.3661249279975891\n",
            "Cost : 0.35668718814849854\n",
            "Iter : 500\n",
            "Train Loss : 0.23667101562023163\n",
            "Cost : 0.12141817063093185\n",
            "Iter : 750\n",
            "Train Loss : 0.08252515643835068\n",
            "Cost : 0.132122203707695\n",
            "Iter : 1000\n",
            "Train Loss : 0.0645001158118248\n",
            "Cost : 0.25497522950172424\n",
            "Iter : 1250\n",
            "Train Loss : 0.21883969008922577\n",
            "Cost : 0.10516013950109482\n",
            "Iter : 1500\n",
            "Train Loss : 0.10389870405197144\n",
            "Cost : 0.24537892639636993\n",
            "Iter : 1750\n",
            "Train Loss : 0.1509707123041153\n",
            "Cost : 0.13344672322273254\n",
            "Iter : 2000\n",
            "Train Loss : 0.05602286010980606\n",
            "Cost : 0.12256572395563126\n",
            "Iter : 2250\n",
            "Train Loss : 0.0702281966805458\n",
            "Cost : 0.14862065017223358\n"
          ]
        },
        {
          "output_type": "display_data",
          "data": {
            "text/plain": [
              "<Figure size 1000x800 with 1 Axes>"
            ],
            "image/png": "[encoded data removed]"
          },
          "metadata": {}
        }
      ]
    },
    {
      "cell_type": "code",
      "source": [
        "# Evaluation\n",
        "# Get a random batch of test data\n",
        "test_batch_indices = np.random.choice(test_x.shape[0], size=n_batch, replace=False)\n",
        "test_batch_x = test_x[test_batch_indices]\n",
        "test_batch_y = test_y[test_batch_indices]\n",
        "\n",
        "test_batch_x = test_batch_x.reshape((n_batch, input_h, input_w, input_ch))  # Reshape the batch if needed\n",
        "# Convert labels to one-hot encoding if necessary\n",
        "test_batch_y = tf.keras.utils.to_categorical(test_batch_y, num_classes=10)  # Adjust num_classes if needed\n",
        "\n",
        "my_pred = sess.run(pred, feed_dict={x: test_batch_x.reshape(-1, 28, 28, 1)})\n",
        "my_pred = np.argmax(my_pred, axis=1)\n",
        "\n",
        "labels = np.argmax(test_batch_y, axis=1)\n",
        "\n",
        "accr = np.mean(np.equal(my_pred, labels))\n",
        "print(\"Accuracy : {}\".format(accr*100))"
      ],
      "metadata": {
        "colab": {
          "base_uri": "https://localhost:8080/"
        },
        "id": "bbea8DE64dVm",
        "outputId": "682a69b6-b28f-428c-b9f2-869232132d5c"
      },
      "execution_count": 151,
      "outputs": [
        {
          "output_type": "stream",
          "name": "stdout",
          "text": [
            "Accuracy : 100.0\n"
          ]
        }
      ]
    },
    {
      "cell_type": "code",
      "source": [
        "# Get a random batch of test data\n",
        "n_batch = 1\n",
        "test_batch_indices = np.random.choice(test_x.shape[0], size=n_batch, replace=False)\n",
        "test_batch_x = test_x[test_batch_indices]\n",
        "test_batch_y = test_y[test_batch_indices]\n",
        "\n",
        "test_batch_x = test_batch_x.reshape((n_batch, input_h, input_w, input_ch))  # Reshape the batch if needed\n",
        "# Convert labels to one-hot encoding if necessary\n",
        "test_batch_y = tf.keras.utils.to_categorical(test_batch_y, num_classes=10)  # Adjust num_classes if needed\n",
        "\n",
        "logits = sess.run(tf.nn.softmax(pred), feed_dict={x: test_batch_x.reshape(-1, 28, 28, 1)})\n",
        "predict = np.argmax(logits)\n",
        "\n",
        "plt.figure(figsize = (12, 5))\n",
        "plt.subplot(1,2,1)\n",
        "plt.imshow(test_batch_x.reshape(28, 28), 'gray')\n",
        "plt.axis('off')\n",
        "plt.subplot(1,2,2)\n",
        "plt.stem(logits.ravel())\n",
        "plt.show()\n",
        "\n",
        "np.set_printoptions(precision = 2, suppress = True)\n",
        "print('Prediction : {}'.format(predict))\n",
        "print('Probability : {}'.format(logits.ravel()))"
      ],
      "metadata": {
        "colab": {
          "base_uri": "https://localhost:8080/",
          "height": 437
        },
        "id": "RXVrPlNc7qMx",
        "outputId": "a77de317-be31-4411-ad11-229fb26cb374"
      },
      "execution_count": 152,
      "outputs": [
        {
          "output_type": "display_data",
          "data": {
            "text/plain": [
              "<Figure size 1200x500 with 2 Axes>"
            ],
            "image/png": "[encoded data removed]"
          },
          "metadata": {}
        },
        {
          "output_type": "stream",
          "name": "stdout",
          "text": [
            "Prediction : 6\n",
            "Probability : [0. 0. 0. 0. 0. 0. 1. 0. 0. 0.]\n"
          ]
        }
      ]
    },
    {
      "cell_type": "markdown",
      "source": [
        "Accuracy : 96.0 -> Accuracy : 100.0으로 올랐다.\\\n",
        "복잡한 모델이라면 테스트 데이터에서 오히려 overfitting이 발생해서 성능이 떨어질수도 있는데, Mnist는 간단해서 정확도가 향상한 것 같다."
      ],
      "metadata": {
        "id": "tOAPrHliBmIN"
      }
    }
  ]
}