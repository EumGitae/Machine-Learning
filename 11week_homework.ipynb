{
  "nbformat": 4,
  "nbformat_minor": 0,
  "metadata": {
    "colab": {
      "provenance": [],
      "authorship_tag": "ABX9TyMKmoNHIiG0IOMeZDeJ82py",
      "include_colab_link": true
    },
    "kernelspec": {
      "name": "python3",
      "display_name": "Python 3"
    },
    "language_info": {
      "name": "python"
    }
  },
  "cells": [
    {
      "cell_type": "markdown",
      "metadata": {
        "id": "view-in-github",
        "colab_type": "text"
      },
      "source": [
        "<a href=\"https://colab.research.google.com/github/EumGitae/Machine-Learning/blob/main/11week_homework.ipynb\" target=\"_parent\"><img src=\"https://colab.research.google.com/assets/colab-badge.svg\" alt=\"Open In Colab\"/></a>"
      ]
    },
    {
      "cell_type": "markdown",
      "source": [
        "1.  실습 예제에 대해 코딩을 완료하고 평가하라."
      ],
      "metadata": {
        "id": "KTRmqX7p1gLf"
      }
    },
    {
      "cell_type": "code",
      "execution_count": 1,
      "metadata": {
        "id": "PU1PjPO7zVIg"
      },
      "outputs": [],
      "source": [
        "import tensorflow as tf\n",
        "import numpy as np\n",
        "import matplotlib.pyplot as plt"
      ]
    },
    {
      "cell_type": "code",
      "source": [
        "mnist = tf.keras.datasets.mnist\n",
        "\n",
        "(train_x, train_y), (test_x, test_y) = mnist.load_data()\n",
        "\n",
        "train_x, test_x = train_x/255.0, test_x/255.0"
      ],
      "metadata": {
        "colab": {
          "base_uri": "https://localhost:8080/"
        },
        "id": "3ynvHsE30Iaf",
        "outputId": "4231804f-b8e9-43a8-cad2-bab298cced1a"
      },
      "execution_count": 2,
      "outputs": [
        {
          "output_type": "stream",
          "name": "stdout",
          "text": [
            "Downloading data from https://storage.googleapis.com/tensorflow/tf-keras-datasets/mnist.npz\n",
            "\u001b[1m11490434/11490434\u001b[0m \u001b[32m━━━━━━━━━━━━━━━━━━━━\u001b[0m\u001b[37m\u001b[0m \u001b[1m0s\u001b[0m 0us/step\n"
          ]
        }
      ]
    },
    {
      "cell_type": "code",
      "source": [
        "train_x.shape"
      ],
      "metadata": {
        "colab": {
          "base_uri": "https://localhost:8080/"
        },
        "id": "5UlbfKD10O5G",
        "outputId": "221dd6a6-dc6c-4762-ea44-3da998b9d770"
      },
      "execution_count": 3,
      "outputs": [
        {
          "output_type": "execute_result",
          "data": {
            "text/plain": [
              "(60000, 28, 28)"
            ]
          },
          "metadata": {},
          "execution_count": 3
        }
      ]
    },
    {
      "cell_type": "code",
      "source": [
        "train_x = train_x.reshape((train_x.shape[0], 28, 28, 1))\n",
        "test_x = test_x.reshape((test_x.shape[0], 28, 28, 1))"
      ],
      "metadata": {
        "id": "pg6Iy6R40QiM"
      },
      "execution_count": 4,
      "outputs": []
    },
    {
      "cell_type": "code",
      "source": [
        "# input layer\n",
        "input_h = 28   # input height\n",
        "input_w = 28  # input width\n",
        "input_ch = 1   # input channel : Gray scale\n",
        "\n",
        "# 1st convolution layer\n",
        "k1_h = 3\n",
        "k1_w = 3\n",
        "k1_ch = 32\n",
        "p1_h = 2\n",
        "p1_w = 2\n",
        "# (None, 14, 14, 32)\n",
        "\n",
        "# 2nd convolution layer\n",
        "k2_h = 3\n",
        "k2_w = 3\n",
        "k2_ch = 64\n",
        "p2_h = 2\n",
        "p2_w = 2\n",
        "# (None, 7, 7, 64)\n",
        "\n",
        "# Fully connected : flatten the features (7x7x64)\n",
        "conv_result_size = 7 * 7 * 64\n",
        "n_hidden = 100\n",
        "n_output = 10"
      ],
      "metadata": {
        "id": "fXZGm0wV0Rjm"
      },
      "execution_count": 5,
      "outputs": []
    },
    {
      "cell_type": "code",
      "source": [
        "# Kernel size : [kernel_height, kernel_width, input_ch, output_ch]\n",
        "import tensorflow.compat.v1 as tf\n",
        "tf.disable_v2_behavior()\n",
        "\n",
        "weights = {\n",
        "    'conv1' : tf.Variable(tf.random.normal([k1_h, k1_w, input_ch, k1_ch], stddev = 0.1)),\n",
        "    'conv2' : tf.Variable(tf.random.normal([k2_h, k2_w, k1_ch, k2_ch], stddev = 0.1)),\n",
        "    'hidden' : tf.Variable(tf.random.normal([conv_result_size, n_hidden], stddev = 0.1)),\n",
        "    'output' : tf.Variable(tf.random.normal([n_hidden, n_output], stddev = 0.1))\n",
        "}\n",
        "\n",
        "# bias size : [output_ch] or [neuron_size]\n",
        "biases = {\n",
        "    'conv1' : tf.Variable(tf.random.normal([k1_ch], stddev = 0.1)),\n",
        "    'conv2' : tf.Variable(tf.random.normal([k2_ch], stddev = 0.1)),\n",
        "    'hidden' : tf.Variable(tf.random.normal([n_hidden], stddev = 0.1)),\n",
        "    'output' : tf.Variable(tf.random.normal([n_output], stddev = 0.1))\n",
        "}\n",
        "\n",
        "# input layer : [batch_size, image_height, image_width, channels]\n",
        "# output layer : [batch_size, class_size]\n",
        "x = tf.placeholder(shape=[None, input_h, input_w, input_ch], dtype=tf.float32)\n",
        "y = tf.placeholder(shape=[None, n_output], dtype=tf.float32)"
      ],
      "metadata": {
        "colab": {
          "base_uri": "https://localhost:8080/"
        },
        "id": "sS8DEVmY0Sfe",
        "outputId": "c6b69271-0231-4254-c42d-d88b84b09bd7"
      },
      "execution_count": 6,
      "outputs": [
        {
          "output_type": "stream",
          "name": "stderr",
          "text": [
            "WARNING:tensorflow:From /usr/local/lib/python3.11/dist-packages/tensorflow/python/compat/v2_compat.py:98: disable_resource_variables (from tensorflow.python.ops.resource_variables_toggle) is deprecated and will be removed in a future version.\n",
            "Instructions for updating:\n",
            "non-resource variables are not supported in the long term\n"
          ]
        }
      ]
    },
    {
      "cell_type": "code",
      "source": [
        "# [batch, height, width, channels]\n",
        "\n",
        "def net(x, weights, biases):\n",
        "    conv1 = tf.nn.conv2d(x, weights['conv1'], strides=[1, 1, 1, 1], padding='SAME')\n",
        "    conv1 = tf.nn.relu(tf.add(conv1, biases['conv1']))\n",
        "    maxp1 = tf.nn.max_pool(conv1, ksize=[1, p1_h, p1_w, 1], strides=[1, p1_h, p1_w, 1], padding='VALID')\n",
        "\n",
        "    conv2 = tf.nn.conv2d(maxp1, weights['conv2'], strides=[1, 1, 1, 1], padding='SAME')\n",
        "    conv2 = tf.nn.relu(tf.add(conv2, biases['conv2']))\n",
        "    maxp2 = tf.nn.max_pool(conv2, ksize=[1, p2_h, p2_w, 1], strides=[1, p2_h, p2_w, 1], padding='VALID')\n",
        "\n",
        "\n",
        "    maxp2_flatten = tf.reshape(maxp2, [-1, conv_result_size])\n",
        "\n",
        "    hidden = tf.add(tf.matmul(maxp2_flatten, weights['hidden']), biases['hidden'])\n",
        "    hidden = tf.nn.relu(hidden)\n",
        "    output = tf.add(tf.matmul(hidden, weights['output']), biases['output'])\n",
        "\n",
        "    return output"
      ],
      "metadata": {
        "id": "UykynQqt0TcL"
      },
      "execution_count": 7,
      "outputs": []
    },
    {
      "cell_type": "code",
      "source": [
        "# Loss function\n",
        "\n",
        "LR = 0.0001\n",
        "pred = net(x, weights, biases)\n",
        "loss = tf.nn.softmax_cross_entropy_with_logits(labels=y, logits=pred)\n",
        "loss = tf.reduce_mean(loss)\n",
        "\n",
        "optm = tf.train.AdamOptimizer(learning_rate=LR).minimize(loss)"
      ],
      "metadata": {
        "colab": {
          "base_uri": "https://localhost:8080/"
        },
        "id": "LWFMlvih0VCw",
        "outputId": "00174e72-c928-4f47-a340-945971686080"
      },
      "execution_count": 8,
      "outputs": [
        {
          "output_type": "stream",
          "name": "stderr",
          "text": [
            "WARNING:tensorflow:From /usr/local/lib/python3.11/dist-packages/tensorflow/python/util/dispatch.py:1260: softmax_cross_entropy_with_logits (from tensorflow.python.ops.nn_ops) is deprecated and will be removed in a future version.\n",
            "Instructions for updating:\n",
            "\n",
            "Future major versions of TensorFlow will allow gradients to flow\n",
            "into the labels input on backprop by default.\n",
            "\n",
            "See `tf.nn.softmax_cross_entropy_with_logits_v2`.\n",
            "\n"
          ]
        }
      ]
    },
    {
      "cell_type": "code",
      "source": [
        "# Optimization\n",
        "\n",
        "n_batch = 50\n",
        "n_iter = 2500\n",
        "n_prt = 250\n",
        "\n",
        "sess = tf.Session()\n",
        "sess.run(tf.global_variables_initializer())\n",
        "\n",
        "loss_record_train = []\n",
        "loss_record_test = []\n",
        "for epoch in range(n_iter):\n",
        "    # train_x, train_y = mnist.train.next_batch(n_batch)\n",
        "    # train_x = np.reshape(train_x, (-1, 28, 28, 1))\n",
        "    # # train_x = np.reshape(train_x, (n_batch, input_h, input_w, input_ch))\n",
        "    # sess.run(optm, feed_dict={x:train_x, y:train_y})\n",
        "\n",
        "    # Get a random batch of training data\n",
        "    batch_indices = np.random.choice(train_x.shape[0], size=n_batch, replace=False)\n",
        "    batch_x = train_x[batch_indices]\n",
        "    batch_y = train_y[batch_indices]\n",
        "\n",
        "    batch_x = np.reshape(batch_x, (-1, 28, 28, 1))\n",
        "    # batch_x = np.reshape(batch_x, (n_batch, input_h, input_w, input_ch))\n",
        "    # Convert labels to one-hot encoding if necessary\n",
        "    batch_y = tf.keras.utils.to_categorical(batch_y, num_classes=10)  # Adjust num_classes if needed\n",
        "\n",
        "    sess.run(optm, feed_dict={x:batch_x, y:batch_y})\n",
        "\n",
        "    if epoch % n_prt == 0:\n",
        "        # test_x, test_y = mnist.test.next_batch(n_batch)\n",
        "        # test_x = test_x.reshape((n_batch, input_h, input_w, input_ch))\n",
        "        # c1 = sess.run(loss, feed_dict={x:train_x, y:train_y})\n",
        "        # c2 = sess.run(loss, feed_dict={x:test_x, y:test_y})\n",
        "\n",
        "        # Get a random batch of test data\n",
        "        test_batch_indices = np.random.choice(test_x.shape[0], size=n_batch, replace=False)\n",
        "        test_batch_x = test_x[test_batch_indices]\n",
        "        test_batch_y = test_y[test_batch_indices]\n",
        "\n",
        "        test_batch_x = test_batch_x.reshape((n_batch, input_h, input_w, input_ch))\n",
        "        # Convert labels to one-hot encoding if necessary\n",
        "        test_batch_y = tf.keras.utils.to_categorical(test_batch_y, num_classes=10)  # Adjust num_classes if needed\n",
        "        c1 = sess.run(loss, feed_dict={x: batch_x, y: batch_y})\n",
        "        c2 = sess.run(loss, feed_dict={x: test_batch_x, y: test_batch_y})\n",
        "\n",
        "        loss_record_train.append(c1)\n",
        "        loss_record_test.append(c2)\n",
        "        print(\"Iter : {}\".format(epoch))\n",
        "        print(\"Train Loss : {}\".format(c1))\n",
        "        print(\"Cost : {}\".format(c2))\n",
        "\n",
        "plt.figure(figsize = (10,8))\n",
        "plt.plot(np.arange(len(loss_record_train))*n_prt, loss_record_train, 'r', label = 'Train')\n",
        "plt.plot(np.arange(len(loss_record_test))*n_prt, loss_record_test, 'b', label = 'Test')\n",
        "plt.xlabel('Iteration', fontsize = 15)\n",
        "plt.ylabel('Loss', fontsize = 15)\n",
        "plt.legend(fontsize = 12)\n",
        "plt.ylim([0, np.max(loss_record_train)])\n",
        "plt.show()"
      ],
      "metadata": {
        "colab": {
          "base_uri": "https://localhost:8080/",
          "height": 1000
        },
        "id": "g7pHD6ig0WCL",
        "outputId": "5334fb82-8594-4c98-931d-b5a194253d1e"
      },
      "execution_count": 9,
      "outputs": [
        {
          "output_type": "stream",
          "name": "stdout",
          "text": [
            "Iter : 0\n",
            "Train Loss : 2.6600255966186523\n",
            "Cost : 2.694443941116333\n",
            "Iter : 250\n",
            "Train Loss : 0.7471022009849548\n",
            "Cost : 0.7381047010421753\n",
            "Iter : 500\n",
            "Train Loss : 0.2792088985443115\n",
            "Cost : 0.42967069149017334\n",
            "Iter : 750\n",
            "Train Loss : 0.26880601048469543\n",
            "Cost : 0.21532568335533142\n",
            "Iter : 1000\n",
            "Train Loss : 0.08223214745521545\n",
            "Cost : 0.10977497696876526\n",
            "Iter : 1250\n",
            "Train Loss : 0.22039087116718292\n",
            "Cost : 0.1288188099861145\n",
            "Iter : 1500\n",
            "Train Loss : 0.08758074790239334\n",
            "Cost : 0.0547618642449379\n",
            "Iter : 1750\n",
            "Train Loss : 0.07805958390235901\n",
            "Cost : 0.07509131729602814\n",
            "Iter : 2000\n",
            "Train Loss : 0.1747911423444748\n",
            "Cost : 0.13613909482955933\n",
            "Iter : 2250\n",
            "Train Loss : 0.15701241791248322\n",
            "Cost : 0.08978448808193207\n"
          ]
        },
        {
          "output_type": "display_data",
          "data": {
            "text/plain": [
              "<Figure size 1000x800 with 1 Axes>"
            ],
            "image/png": "[encoded data removed]"
          },
          "metadata": {}
        }
      ]
    },
    {
      "cell_type": "code",
      "source": [
        "# Evaluation\n",
        "# Get a random batch of test data\n",
        "test_batch_indices = np.random.choice(test_x.shape[0], size=n_batch, replace=False)\n",
        "test_batch_x = test_x[test_batch_indices]\n",
        "test_batch_y = test_y[test_batch_indices]\n",
        "\n",
        "test_batch_x = test_batch_x.reshape((n_batch, input_h, input_w, input_ch))  # Reshape the batch if needed\n",
        "# Convert labels to one-hot encoding if necessary\n",
        "test_batch_y = tf.keras.utils.to_categorical(test_batch_y, num_classes=10)  # Adjust num_classes if needed\n",
        "\n",
        "my_pred = sess.run(pred, feed_dict={x: test_batch_x.reshape(-1, 28, 28, 1)})\n",
        "my_pred = np.argmax(my_pred, axis=1)\n",
        "\n",
        "labels = np.argmax(test_batch_y, axis=1)\n",
        "\n",
        "accr = np.mean(np.equal(my_pred, labels))\n",
        "print(\"Accuracy : {}\".format(accr*100))"
      ],
      "metadata": {
        "colab": {
          "base_uri": "https://localhost:8080/"
        },
        "id": "e2cdUATM0Yxm",
        "outputId": "000c619d-8345-47ec-9c02-02e02a2274f5"
      },
      "execution_count": 10,
      "outputs": [
        {
          "output_type": "stream",
          "name": "stdout",
          "text": [
            "Accuracy : 98.0\n"
          ]
        }
      ]
    },
    {
      "cell_type": "code",
      "source": [
        "# Get a random batch of test data\n",
        "n_batch = 1\n",
        "test_batch_indices = np.random.choice(test_x.shape[0], size=n_batch, replace=False)\n",
        "test_batch_x = test_x[test_batch_indices]\n",
        "test_batch_y = test_y[test_batch_indices]\n",
        "\n",
        "test_batch_x = test_batch_x.reshape((n_batch, input_h, input_w, input_ch))  # Reshape the batch if needed\n",
        "# Convert labels to one-hot encoding if necessary\n",
        "test_batch_y = tf.keras.utils.to_categorical(test_batch_y, num_classes=10)  # Adjust num_classes if needed\n",
        "\n",
        "logits = sess.run(tf.nn.softmax(pred), feed_dict={x: test_batch_x.reshape(-1, 28, 28, 1)})\n",
        "predict = np.argmax(logits)\n",
        "\n",
        "plt.figure(figsize = (12, 5))\n",
        "plt.subplot(1,2,1)\n",
        "plt.imshow(test_batch_x.reshape(28, 28), 'gray')\n",
        "plt.axis('off')\n",
        "plt.subplot(1,2,2)\n",
        "plt.stem(logits.ravel())\n",
        "plt.show()\n",
        "\n",
        "np.set_printoptions(precision = 2, suppress = True)\n",
        "print('Prediction : {}'.format(predict))\n",
        "print('Probability : {}'.format(logits.ravel()))"
      ],
      "metadata": {
        "colab": {
          "base_uri": "https://localhost:8080/",
          "height": 437
        },
        "id": "dUJMOL8q1A3X",
        "outputId": "be75bb5c-8582-4d26-a4e8-6e5d1cce9c53"
      },
      "execution_count": 11,
      "outputs": [
        {
          "output_type": "display_data",
          "data": {
            "text/plain": [
              "<Figure size 1200x500 with 2 Axes>"
            ],
            "image/png": "[encoded data removed]"
          },
          "metadata": {}
        },
        {
          "output_type": "stream",
          "name": "stdout",
          "text": [
            "Prediction : 1\n",
            "Probability : [0.   0.99 0.   0.   0.   0.   0.   0.   0.   0.  ]\n"
          ]
        }
      ]
    },
    {
      "cell_type": "markdown",
      "source": [
        "2. 위의 문제에서 Convolution Layer(conv3), Fully connected layer(FC2) 를 1개씩\\\n",
        "추가하고, 정확도가 높아지는지 평가하라"
      ],
      "metadata": {
        "id": "sad9QERR2BQw"
      }
    },
    {
      "cell_type": "code",
      "source": [
        "mnist = tf.keras.datasets.mnist\n",
        "\n",
        "(train_x, train_y), (test_x, test_y) = mnist.load_data()\n",
        "\n",
        "train_x, test_x = train_x/255.0, test_x/255.0"
      ],
      "metadata": {
        "id": "KyBTYj891B1i"
      },
      "execution_count": 30,
      "outputs": []
    },
    {
      "cell_type": "code",
      "source": [
        "train_x.shape"
      ],
      "metadata": {
        "colab": {
          "base_uri": "https://localhost:8080/"
        },
        "id": "3ziV4Kww2Ky9",
        "outputId": "6dce5c7d-e359-4751-e2b0-b1de7d662a2f"
      },
      "execution_count": 31,
      "outputs": [
        {
          "output_type": "execute_result",
          "data": {
            "text/plain": [
              "(60000, 28, 28)"
            ]
          },
          "metadata": {},
          "execution_count": 31
        }
      ]
    },
    {
      "cell_type": "code",
      "source": [
        "train_x = train_x.reshape((train_x.shape[0], 28, 28, 1))\n",
        "test_x = test_x.reshape((test_x.shape[0], 28, 28, 1))"
      ],
      "metadata": {
        "id": "xYkjF-DU2MPZ"
      },
      "execution_count": 32,
      "outputs": []
    },
    {
      "cell_type": "code",
      "source": [
        "# input layer\n",
        "input_h = 28   # input height\n",
        "input_w = 28  # input width\n",
        "input_ch = 1   # input channel : Gray scale\n",
        "\n",
        "# 1st convolution layer\n",
        "k1_h = 3\n",
        "k1_w = 3\n",
        "k1_ch = 32\n",
        "p1_h = 2\n",
        "p1_w = 2\n",
        "# (None, 14, 14, 32)\n",
        "\n",
        "# 2nd convolution layer\n",
        "k2_h = 3\n",
        "k2_w = 3\n",
        "k2_ch = 64\n",
        "p2_h = 2\n",
        "p2_w = 2\n",
        "# (None, 7, 7, 64)\n",
        "\n",
        "# 3nd convolution layer\n",
        "k3_h = 3\n",
        "k3_w = 3\n",
        "k3_ch = 128\n",
        "p3_h = 2\n",
        "p3_w = 2\n",
        "# (None, 3, 3, 128)\n",
        "\n",
        "# Fully connected : flatten the features (7x7x64)\n",
        "conv_result_size = 4 * 4 * 128\n",
        "n_hidden = 625\n",
        "n_output = 10"
      ],
      "metadata": {
        "id": "Z9x1nfDQ2NHl"
      },
      "execution_count": 33,
      "outputs": []
    },
    {
      "cell_type": "code",
      "source": [
        "# Kernel size : [kernel_height, kernel_width, input_ch, output_ch]\n",
        "import tensorflow.compat.v1 as tf\n",
        "tf.disable_v2_behavior()\n",
        "\n",
        "weights = {\n",
        "    'conv1' : tf.Variable(tf.random.normal([k1_h, k1_w, input_ch, k1_ch], stddev = 0.1)),\n",
        "    'conv2' : tf.Variable(tf.random.normal([k2_h, k2_w, k1_ch, k2_ch], stddev = 0.1)),\n",
        "    'conv3' : tf.Variable(tf.random.normal([k3_h, k3_w, k2_ch, k3_ch], stddev = 0.1)),\n",
        "    'hidden' : tf.Variable(tf.random.normal([conv_result_size, n_hidden], stddev = 0.1)),\n",
        "    'output' : tf.Variable(tf.random.normal([n_hidden, n_output], stddev = 0.1))\n",
        "}\n",
        "\n",
        "# bias size : [output_ch] or [neuron_size]\n",
        "biases = {\n",
        "    'conv1' : tf.Variable(tf.random.normal([k1_ch], stddev = 0.1)),\n",
        "    'conv2' : tf.Variable(tf.random.normal([k2_ch], stddev = 0.1)),\n",
        "    'conv3' : tf.Variable(tf.random.normal([k3_ch], stddev = 0.1)),\n",
        "    'hidden' : tf.Variable(tf.random.normal([n_hidden], stddev = 0.1)),\n",
        "    'output' : tf.Variable(tf.random.normal([n_output], stddev = 0.1))\n",
        "}\n",
        "\n",
        "# input layer : [batch_size, image_height, image_width, channels]\n",
        "# output layer : [batch_size, class_size]\n",
        "x = tf.placeholder(shape=[None, input_h, input_w, input_ch], dtype=tf.float32)\n",
        "y = tf.placeholder(shape=[None, n_output], dtype=tf.float32)"
      ],
      "metadata": {
        "id": "xk7b6mUR3hoO"
      },
      "execution_count": 34,
      "outputs": []
    },
    {
      "cell_type": "code",
      "source": [
        "# [batch, height, width, channels]\n",
        "\n",
        "def net(x, weights, biases):\n",
        "    conv1 = tf.nn.conv2d(x, weights['conv1'], strides=[1, 1, 1, 1], padding='SAME')\n",
        "    conv1 = tf.nn.relu(tf.add(conv1, biases['conv1']))\n",
        "    maxp1 = tf.nn.max_pool(conv1, ksize=[1, p1_h, p1_w, 1], strides=[1, p1_h, p1_w, 1], padding='VALID')\n",
        "\n",
        "    conv2 = tf.nn.conv2d(maxp1, weights['conv2'], strides=[1, 1, 1, 1], padding='SAME')\n",
        "    conv2 = tf.nn.relu(tf.add(conv2, biases['conv2']))\n",
        "    maxp2 = tf.nn.max_pool(conv2, ksize=[1, p2_h, p2_w, 1], strides=[1, p2_h, p2_w, 1], padding='VALID')\n",
        "\n",
        "    conv3 = tf.nn.conv2d(maxp2, weights['conv3'], strides=[1, 1, 1, 1], padding='SAME')\n",
        "    conv3 = tf.nn.relu(tf.add(conv3, biases['conv3']))\n",
        "    maxp3 = tf.nn.max_pool(conv3, ksize=[1, p3_h, p3_w, 1], strides=[1, p3_h, p3_w, 1], padding='SAME')\n",
        "\n",
        "    maxp3_flatten = tf.reshape(maxp3, [-1, conv_result_size])\n",
        "\n",
        "    hidden = tf.add(tf.matmul(maxp3_flatten, weights['hidden']), biases['hidden'])\n",
        "    hidden = tf.nn.relu(hidden)\n",
        "    output = tf.add(tf.matmul(hidden, weights['output']), biases['output'])\n",
        "\n",
        "    return output"
      ],
      "metadata": {
        "id": "Xgn-DAZr33qc"
      },
      "execution_count": 35,
      "outputs": []
    },
    {
      "cell_type": "code",
      "source": [
        "# Loss function\n",
        "\n",
        "LR = 0.0001\n",
        "pred = net(x, weights, biases)\n",
        "loss = tf.nn.softmax_cross_entropy_with_logits(labels=y, logits=pred)\n",
        "loss = tf.reduce_mean(loss)\n",
        "\n",
        "optm = tf.train.AdamOptimizer(learning_rate=LR).minimize(loss)"
      ],
      "metadata": {
        "id": "hGQ9AVfs4VhL"
      },
      "execution_count": 36,
      "outputs": []
    },
    {
      "cell_type": "code",
      "source": [
        "# Optimization\n",
        "\n",
        "n_batch = 50\n",
        "n_iter = 2500\n",
        "n_prt = 250\n",
        "\n",
        "sess = tf.Session()\n",
        "sess.run(tf.global_variables_initializer())\n",
        "\n",
        "loss_record_train = []\n",
        "loss_record_test = []\n",
        "for epoch in range(n_iter):\n",
        "    # train_x, train_y = mnist.train.next_batch(n_batch)\n",
        "    # train_x = np.reshape(train_x, (-1, 28, 28, 1))\n",
        "    # # train_x = np.reshape(train_x, (n_batch, input_h, input_w, input_ch))\n",
        "    # sess.run(optm, feed_dict={x:train_x, y:train_y})\n",
        "\n",
        "    # Get a random batch of training data\n",
        "    batch_indices = np.random.choice(train_x.shape[0], size=n_batch, replace=False)\n",
        "    batch_x = train_x[batch_indices]\n",
        "    batch_y = train_y[batch_indices]\n",
        "\n",
        "    batch_x = np.reshape(batch_x, (-1, 28, 28, 1))\n",
        "    # batch_x = np.reshape(batch_x, (n_batch, input_h, input_w, input_ch))\n",
        "    # Convert labels to one-hot encoding if necessary\n",
        "    batch_y = tf.keras.utils.to_categorical(batch_y, num_classes=10)  # Adjust num_classes if needed\n",
        "\n",
        "    sess.run(optm, feed_dict={x:batch_x, y:batch_y})\n",
        "\n",
        "    if epoch % n_prt == 0:\n",
        "        # test_x, test_y = mnist.test.next_batch(n_batch)\n",
        "        # test_x = test_x.reshape((n_batch, input_h, input_w, input_ch))\n",
        "        # c1 = sess.run(loss, feed_dict={x:train_x, y:train_y})\n",
        "        # c2 = sess.run(loss, feed_dict={x:test_x, y:test_y})\n",
        "\n",
        "        # Get a random batch of test data\n",
        "        test_batch_indices = np.random.choice(test_x.shape[0], size=n_batch, replace=False)\n",
        "        test_batch_x = test_x[test_batch_indices]\n",
        "        test_batch_y = test_y[test_batch_indices]\n",
        "\n",
        "        test_batch_x = test_batch_x.reshape((n_batch, input_h, input_w, input_ch))\n",
        "        # Convert labels to one-hot encoding if necessary\n",
        "        test_batch_y = tf.keras.utils.to_categorical(test_batch_y, num_classes=10)  # Adjust num_classes if needed\n",
        "        c1 = sess.run(loss, feed_dict={x: batch_x, y: batch_y})\n",
        "        c2 = sess.run(loss, feed_dict={x: test_batch_x, y: test_batch_y})\n",
        "\n",
        "        loss_record_train.append(c1)\n",
        "        loss_record_test.append(c2)\n",
        "        print(\"Iter : {}\".format(epoch))\n",
        "        print(\"Train Loss : {}\".format(c1))\n",
        "        print(\"Cost : {}\".format(c2))\n",
        "\n",
        "plt.figure(figsize = (10,8))\n",
        "plt.plot(np.arange(len(loss_record_train))*n_prt, loss_record_train, 'r', label = 'Train')\n",
        "plt.plot(np.arange(len(loss_record_test))*n_prt, loss_record_test, 'b', label = 'Test')\n",
        "plt.xlabel('Iteration', fontsize = 15)\n",
        "plt.ylabel('Loss', fontsize = 15)\n",
        "plt.legend(fontsize = 12)\n",
        "plt.ylim([0, np.max(loss_record_train)])\n",
        "plt.show()"
      ],
      "metadata": {
        "colab": {
          "base_uri": "https://localhost:8080/",
          "height": 1000
        },
        "id": "MRK83xb74ZQO",
        "outputId": "cea44d22-57f5-48a0-afc6-445037027955"
      },
      "execution_count": 37,
      "outputs": [
        {
          "output_type": "stream",
          "name": "stdout",
          "text": [
            "Iter : 0\n",
            "Train Loss : 4.112937927246094\n",
            "Cost : 3.934452772140503\n",
            "Iter : 250\n",
            "Train Loss : 0.39341801404953003\n",
            "Cost : 0.20085425674915314\n",
            "Iter : 500\n",
            "Train Loss : 0.2399858981370926\n",
            "Cost : 0.11186878383159637\n",
            "Iter : 750\n",
            "Train Loss : 0.09563953429460526\n",
            "Cost : 0.28358742594718933\n",
            "Iter : 1000\n",
            "Train Loss : 0.10528407990932465\n",
            "Cost : 0.04589921608567238\n",
            "Iter : 1250\n",
            "Train Loss : 0.10173492133617401\n",
            "Cost : 0.01134165283292532\n",
            "Iter : 1500\n",
            "Train Loss : 0.0816606879234314\n",
            "Cost : 0.02999849058687687\n",
            "Iter : 1750\n",
            "Train Loss : 0.05135992169380188\n",
            "Cost : 0.13323353230953217\n",
            "Iter : 2000\n",
            "Train Loss : 0.12059903889894485\n",
            "Cost : 0.1108517274260521\n",
            "Iter : 2250\n",
            "Train Loss : 0.019082527607679367\n",
            "Cost : 0.011842460371553898\n"
          ]
        },
        {
          "output_type": "display_data",
          "data": {
            "text/plain": [
              "<Figure size 1000x800 with 1 Axes>"
            ],
            "image/png": "[encoded data removed]"
          },
          "metadata": {}
        }
      ]
    },
    {
      "cell_type": "code",
      "source": [
        "# Evaluation\n",
        "# Get a random batch of test data\n",
        "test_batch_indices = np.random.choice(test_x.shape[0], size=n_batch, replace=False)\n",
        "test_batch_x = test_x[test_batch_indices]\n",
        "test_batch_y = test_y[test_batch_indices]\n",
        "\n",
        "test_batch_x = test_batch_x.reshape((n_batch, input_h, input_w, input_ch))  # Reshape the batch if needed\n",
        "# Convert labels to one-hot encoding if necessary\n",
        "test_batch_y = tf.keras.utils.to_categorical(test_batch_y, num_classes=10)  # Adjust num_classes if needed\n",
        "\n",
        "my_pred = sess.run(pred, feed_dict={x: test_batch_x.reshape(-1, 28, 28, 1)})\n",
        "my_pred = np.argmax(my_pred, axis=1)\n",
        "\n",
        "labels = np.argmax(test_batch_y, axis=1)\n",
        "\n",
        "accr = np.mean(np.equal(my_pred, labels))\n",
        "print(\"Accuracy : {}\".format(accr*100))"
      ],
      "metadata": {
        "colab": {
          "base_uri": "https://localhost:8080/"
        },
        "id": "bbea8DE64dVm",
        "outputId": "758d3103-e293-4878-8bec-729449f3e6c5"
      },
      "execution_count": 38,
      "outputs": [
        {
          "output_type": "stream",
          "name": "stdout",
          "text": [
            "Accuracy : 100.0\n"
          ]
        }
      ]
    },
    {
      "cell_type": "code",
      "source": [
        "# Get a random batch of test data\n",
        "n_batch = 1\n",
        "test_batch_indices = np.random.choice(test_x.shape[0], size=n_batch, replace=False)\n",
        "test_batch_x = test_x[test_batch_indices]\n",
        "test_batch_y = test_y[test_batch_indices]\n",
        "\n",
        "test_batch_x = test_batch_x.reshape((n_batch, input_h, input_w, input_ch))  # Reshape the batch if needed\n",
        "# Convert labels to one-hot encoding if necessary\n",
        "test_batch_y = tf.keras.utils.to_categorical(test_batch_y, num_classes=10)  # Adjust num_classes if needed\n",
        "\n",
        "logits = sess.run(tf.nn.softmax(pred), feed_dict={x: test_batch_x.reshape(-1, 28, 28, 1)})\n",
        "predict = np.argmax(logits)\n",
        "\n",
        "plt.figure(figsize = (12, 5))\n",
        "plt.subplot(1,2,1)\n",
        "plt.imshow(test_batch_x.reshape(28, 28), 'gray')\n",
        "plt.axis('off')\n",
        "plt.subplot(1,2,2)\n",
        "plt.stem(logits.ravel())\n",
        "plt.show()\n",
        "\n",
        "np.set_printoptions(precision = 2, suppress = True)\n",
        "print('Prediction : {}'.format(predict))\n",
        "print('Probability : {}'.format(logits.ravel()))"
      ],
      "metadata": {
        "colab": {
          "base_uri": "https://localhost:8080/",
          "height": 437
        },
        "id": "RXVrPlNc7qMx",
        "outputId": "fd0667b5-75a9-4d09-a260-940ee8bccd18"
      },
      "execution_count": 39,
      "outputs": [
        {
          "output_type": "display_data",
          "data": {
            "text/plain": [
              "<Figure size 1200x500 with 2 Axes>"
            ],
            "image/png": "[encoded data removed]"
          },
          "metadata": {}
        },
        {
          "output_type": "stream",
          "name": "stdout",
          "text": [
            "Prediction : 6\n",
            "Probability : [0.   0.   0.   0.   0.   0.   0.98 0.   0.02 0.  ]\n"
          ]
        }
      ]
    },
    {
      "cell_type": "markdown",
      "source": [
        "Accuracy : 98.0 -> Accuracy : 100.0으로 올랐다.\\\n",
        "복잡한 모델이라면 테스트 데이터에서 오히려 overfitting이 발생해서 성능이 떨어질수도 있는데, Mnist는 간단해서 정확도가 향상한 것 같다."
      ],
      "metadata": {
        "id": "SGYYHo5I7wOi"
      }
    }
  ]
}