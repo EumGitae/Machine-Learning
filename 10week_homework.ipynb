{
  "nbformat": 4,
  "nbformat_minor": 0,
  "metadata": {
    "colab": {
      "provenance": [],
      "authorship_tag": "ABX9TyP3wfh/MJejtVRGj8+TLo/Q",
      "include_colab_link": true
    },
    "kernelspec": {
      "name": "python3",
      "display_name": "Python 3"
    },
    "language_info": {
      "name": "python"
    }
  },
  "cells": [
    {
      "cell_type": "markdown",
      "metadata": {
        "id": "view-in-github",
        "colab_type": "text"
      },
      "source": [
        "<a href=\"https://colab.research.google.com/github/EumGitae/Machine-Learning/blob/main/10week_homework.ipynb\" target=\"_parent\"><img src=\"https://colab.research.google.com/assets/colab-badge.svg\" alt=\"Open In Colab\"/></a>"
      ]
    },
    {
      "cell_type": "code",
      "execution_count": 42,
      "metadata": {
        "id": "0CUROz6d8EFR"
      },
      "outputs": [],
      "source": [
        "import numpy as np\n",
        "import matplotlib.pyplot as plt\n",
        "from tensorflow.keras.models import Sequential\n",
        "from tensorflow.keras.layers import Dense\n",
        "from tensorflow.keras.optimizers import SGD\n",
        "from tensorflow.keras.metrics import MeanSquaredError, MeanAbsolutePercentageError\n",
        "from tensorflow.keras import utils"
      ]
    },
    {
      "cell_type": "code",
      "source": [
        "utils.set_random_seed(0)\n",
        "np.random.seed(0)\n",
        "samples = 1000"
      ],
      "metadata": {
        "id": "CPfDl41t8fyI"
      },
      "execution_count": 43,
      "outputs": []
    },
    {
      "cell_type": "code",
      "source": [
        "x1 = np.random.uniform(0, 1, samples)\n",
        "x2 = np.random.uniform(0, 1, samples)"
      ],
      "metadata": {
        "id": "ayR-TPwG8pT4"
      },
      "execution_count": 44,
      "outputs": []
    },
    {
      "cell_type": "code",
      "source": [
        "print(x1.shape)\n",
        "print(x2.shape)"
      ],
      "metadata": {
        "colab": {
          "base_uri": "https://localhost:8080/"
        },
        "id": "6MmYDjRH-0ZT",
        "outputId": "0de1c1f4-bcd5-4e12-a27c-f128fd175100"
      },
      "execution_count": 45,
      "outputs": [
        {
          "output_type": "stream",
          "name": "stdout",
          "text": [
            "(1000,)\n",
            "(1000,)\n"
          ]
        }
      ]
    },
    {
      "cell_type": "code",
      "source": [
        "Input = np.column_stack((x1, x2))\n",
        "y = 2 * x1 + 3 * x2 - 1"
      ],
      "metadata": {
        "id": "NyeZDXUz9FOL"
      },
      "execution_count": 46,
      "outputs": []
    },
    {
      "cell_type": "code",
      "source": [
        "input_layer = 2\n",
        "hidden_layer = 3\n",
        "output_layer = 1"
      ],
      "metadata": {
        "id": "gF3QEkcN9R6Y"
      },
      "execution_count": 47,
      "outputs": []
    },
    {
      "cell_type": "code",
      "source": [
        "W1 = np.random.rand(hidden_layer, input_layer)\n",
        "b1 = np.random.rand(hidden_layer)\n",
        "W2 = np.random.rand(output_layer, hidden_layer)\n",
        "b2 = np.random.rand(output_layer)"
      ],
      "metadata": {
        "id": "V47m3Wtx9iTW"
      },
      "execution_count": 48,
      "outputs": []
    },
    {
      "cell_type": "code",
      "source": [
        "print(W1.shape)\n",
        "print(b1.shape)\n",
        "print(W2.shape)\n",
        "print(b2.shape)"
      ],
      "metadata": {
        "colab": {
          "base_uri": "https://localhost:8080/"
        },
        "id": "ueBDfPWo9yfu",
        "outputId": "dd70babd-326e-4975-b5b4-6523cc0cf4a6"
      },
      "execution_count": 49,
      "outputs": [
        {
          "output_type": "stream",
          "name": "stdout",
          "text": [
            "(3, 2)\n",
            "(3,)\n",
            "(1, 3)\n",
            "(1,)\n"
          ]
        }
      ]
    },
    {
      "cell_type": "code",
      "source": [
        "def sigmoid(x):\n",
        "  return 1 / (1 + np.exp(-x))\n",
        "\n",
        "def sigmoid_derivative(x):\n",
        "  return sigmoid(x) * (1 - sigmoid(x))"
      ],
      "metadata": {
        "id": "Zl1WXIVo98ax"
      },
      "execution_count": 50,
      "outputs": []
    },
    {
      "cell_type": "code",
      "source": [
        "alpha = 1e-2\n",
        "epochs = 50\n",
        "MSE_list, MAPE_list = [], []"
      ],
      "metadata": {
        "id": "cuqtgkdA-G4c"
      },
      "execution_count": 51,
      "outputs": []
    },
    {
      "cell_type": "code",
      "source": [
        "for epoch in range(epochs):\n",
        "    MSE, MAPE = 0,0\n",
        "    for iter in range(samples):\n",
        "        X = Input[iter]\n",
        "        # Feedforward\n",
        "        Z_tilde = W1@X.reshape(-1,1)+ b1.reshape(-1,1)\n",
        "        H = sigmoid(Z_tilde)\n",
        "        y_pred = W2@H.reshape(-1,1) + b2.reshape(-1,1)\n",
        "\n",
        "        #Calculating the error\n",
        "        J = ((y_pred - y[iter])**2 ) / 2\n",
        "        MSE += J\n",
        "        MAPE += np.abs((y_pred - y[iter])/y[iter]) * 100\n",
        "\n",
        "        # Backpropagation\n",
        "        # Output layer -> hidden layer\n",
        "        dJdy = (y_pred - y[iter])\n",
        "        dJdW2_11, dJdW2_12, dJdW2_13 = dJdy*H[0], dJdy*H[1], dJdy*H[2]\n",
        "        dJdb2_1 = dJdy\n",
        "        dJdH1, dJdH2, dJdH3 = dJdy*W2[0, 0], dJdy*W2[0, 1], dJdy*W2[0, 2]\n",
        "\n",
        "        # Hidden layer --> Input layer\n",
        "        dJdW1_11 = dJdH1 * X[0] * sigmoid_derivative(Z_tilde[0])\n",
        "        dJdW1_12 = dJdH1 * X[1] * sigmoid_derivative(Z_tilde[0])\n",
        "        dJdW1_21 = dJdH2 * X[0] * sigmoid_derivative(Z_tilde[1])\n",
        "        dJdW1_22 = dJdH2 * X[1] * sigmoid_derivative(Z_tilde[1])\n",
        "        dJdW1_31 = dJdH3 * X[0] * sigmoid_derivative(Z_tilde[2])\n",
        "        dJdW1_32 = dJdH3 * X[1] * sigmoid_derivative(Z_tilde[2])\n",
        "        dJdb1_1 = dJdH1 * sigmoid_derivative(Z_tilde[0])\n",
        "        dJdb1_2 = dJdH2 * sigmoid_derivative(Z_tilde[1])\n",
        "        dJdb1_3 = dJdH3 * sigmoid_derivative(Z_tilde[2])\n",
        "\n",
        "        # Update\n",
        "        W1[0][0] += -alpha * dJdW1_11\n",
        "        W1[0][1] += -alpha * dJdW1_12\n",
        "        W1[1][0] += -alpha * dJdW1_21\n",
        "        W1[1][1] += -alpha * dJdW1_22\n",
        "        W1[2][0] += -alpha * dJdW1_31\n",
        "        W1[2][1] += -alpha * dJdW1_32\n",
        "        b1[0]    += -alpha * dJdb1_1\n",
        "        b1[1]    += -alpha * dJdb1_2\n",
        "        b1[2]    += -alpha * dJdb1_3\n",
        "        W2[0][0] += -alpha * dJdW2_11\n",
        "        W2[0][1] += -alpha * dJdW2_12\n",
        "        W2[0][2] += -alpha * dJdW2_13\n",
        "        b2[0]    += -alpha*dJdb2_1\n",
        "\n",
        "    MSE, MAPE = MSE/samples, MAPE/samples\n",
        "    MSE_list.append(np.squeeze(MSE))\n",
        "    MAPE_list.append(np.squeeze(MAPE))\n",
        "    if epoch % 5 == 0 or epoch == epochs-1:\n",
        "       print('MSE and MAPE at epoch ', epoch, ' :',\n",
        "             np.squeeze(MSE), ' ,', np.squeeze(MAPE))"
      ],
      "metadata": {
        "colab": {
          "base_uri": "https://localhost:8080/"
        },
        "collapsed": true,
        "id": "22eofvyU-mhU",
        "outputId": "e596210a-4dfb-4eeb-bb84-5634286aba73"
      },
      "execution_count": 52,
      "outputs": [
        {
          "output_type": "stream",
          "name": "stderr",
          "text": [
            "<ipython-input-52-ead587a10394>:34: DeprecationWarning: Conversion of an array with ndim > 0 to a scalar is deprecated, and will error in future. Ensure you extract a single element from your array before performing this operation. (Deprecated NumPy 1.25.)\n",
            "  W1[0][0] += -alpha * dJdW1_11\n",
            "<ipython-input-52-ead587a10394>:35: DeprecationWarning: Conversion of an array with ndim > 0 to a scalar is deprecated, and will error in future. Ensure you extract a single element from your array before performing this operation. (Deprecated NumPy 1.25.)\n",
            "  W1[0][1] += -alpha * dJdW1_12\n",
            "<ipython-input-52-ead587a10394>:36: DeprecationWarning: Conversion of an array with ndim > 0 to a scalar is deprecated, and will error in future. Ensure you extract a single element from your array before performing this operation. (Deprecated NumPy 1.25.)\n",
            "  W1[1][0] += -alpha * dJdW1_21\n",
            "<ipython-input-52-ead587a10394>:37: DeprecationWarning: Conversion of an array with ndim > 0 to a scalar is deprecated, and will error in future. Ensure you extract a single element from your array before performing this operation. (Deprecated NumPy 1.25.)\n",
            "  W1[1][1] += -alpha * dJdW1_22\n",
            "<ipython-input-52-ead587a10394>:38: DeprecationWarning: Conversion of an array with ndim > 0 to a scalar is deprecated, and will error in future. Ensure you extract a single element from your array before performing this operation. (Deprecated NumPy 1.25.)\n",
            "  W1[2][0] += -alpha * dJdW1_31\n",
            "<ipython-input-52-ead587a10394>:39: DeprecationWarning: Conversion of an array with ndim > 0 to a scalar is deprecated, and will error in future. Ensure you extract a single element from your array before performing this operation. (Deprecated NumPy 1.25.)\n",
            "  W1[2][1] += -alpha * dJdW1_32\n",
            "<ipython-input-52-ead587a10394>:40: DeprecationWarning: Conversion of an array with ndim > 0 to a scalar is deprecated, and will error in future. Ensure you extract a single element from your array before performing this operation. (Deprecated NumPy 1.25.)\n",
            "  b1[0]    += -alpha * dJdb1_1\n",
            "<ipython-input-52-ead587a10394>:41: DeprecationWarning: Conversion of an array with ndim > 0 to a scalar is deprecated, and will error in future. Ensure you extract a single element from your array before performing this operation. (Deprecated NumPy 1.25.)\n",
            "  b1[1]    += -alpha * dJdb1_2\n",
            "<ipython-input-52-ead587a10394>:42: DeprecationWarning: Conversion of an array with ndim > 0 to a scalar is deprecated, and will error in future. Ensure you extract a single element from your array before performing this operation. (Deprecated NumPy 1.25.)\n",
            "  b1[2]    += -alpha * dJdb1_3\n",
            "<ipython-input-52-ead587a10394>:43: DeprecationWarning: Conversion of an array with ndim > 0 to a scalar is deprecated, and will error in future. Ensure you extract a single element from your array before performing this operation. (Deprecated NumPy 1.25.)\n",
            "  W2[0][0] += -alpha * dJdW2_11\n",
            "<ipython-input-52-ead587a10394>:44: DeprecationWarning: Conversion of an array with ndim > 0 to a scalar is deprecated, and will error in future. Ensure you extract a single element from your array before performing this operation. (Deprecated NumPy 1.25.)\n",
            "  W2[0][1] += -alpha * dJdW2_12\n",
            "<ipython-input-52-ead587a10394>:45: DeprecationWarning: Conversion of an array with ndim > 0 to a scalar is deprecated, and will error in future. Ensure you extract a single element from your array before performing this operation. (Deprecated NumPy 1.25.)\n",
            "  W2[0][2] += -alpha * dJdW2_13\n",
            "<ipython-input-52-ead587a10394>:46: DeprecationWarning: Conversion of an array with ndim > 0 to a scalar is deprecated, and will error in future. Ensure you extract a single element from your array before performing this operation. (Deprecated NumPy 1.25.)\n",
            "  b2[0]    += -alpha*dJdb2_1\n"
          ]
        },
        {
          "output_type": "stream",
          "name": "stdout",
          "text": [
            "MSE and MAPE at epoch  0  : 0.4923692081588331  , 641.2237701880406\n",
            "MSE and MAPE at epoch  5  : 0.022246601021031175  , 107.66956507883877\n",
            "MSE and MAPE at epoch  10  : 0.0010939950284458314  , 6.327061349178779\n",
            "MSE and MAPE at epoch  15  : 0.0009431841058067317  , 6.289273870287084\n",
            "MSE and MAPE at epoch  20  : 0.000879499477765787  , 6.363546602574931\n",
            "MSE and MAPE at epoch  25  : 0.0008454180822275695  , 6.422813654178073\n",
            "MSE and MAPE at epoch  30  : 0.0008243076834218878  , 6.466028368064743\n",
            "MSE and MAPE at epoch  35  : 0.0008091300290140491  , 6.569256908978918\n",
            "MSE and MAPE at epoch  40  : 0.0007967970084727224  , 6.720565021532787\n",
            "MSE and MAPE at epoch  45  : 0.0007859123333003955  , 6.823595534615884\n",
            "MSE and MAPE at epoch  49  : 0.0007777988486311408  , 6.875034849438898\n"
          ]
        }
      ]
    },
    {
      "cell_type": "code",
      "source": [
        "plt.figure()\n",
        "plt.plot(np.arange(1,epochs+1), MSE_list, label='MSE', linewidth=1.5, color='b')\n",
        "#plt.yscale('log')\n",
        "plt.xlabel('Epoch')\n",
        "plt.ylabel('Mean Squared Error')\n",
        "plt.title('MSE by Epoch')\n",
        "plt.legend()\n",
        "plt.grid(True)\n",
        "plt.show()\n",
        "\n",
        "plt.figure()\n",
        "plt.plot(np.arange(1,epochs+1), MSE_list, label='MAPE', linewidth=1.5, color='r')\n",
        "#plt.yscale('log')\n",
        "plt.xlabel('Epoch')\n",
        "plt.ylabel('Mean Averaged Percentage Error(%)')\n",
        "plt.title('MAPE by Epoch')\n",
        "plt.legend()\n",
        "plt.grid(True)\n",
        "plt.show()"
      ],
      "metadata": {
        "colab": {
          "base_uri": "https://localhost:8080/",
          "height": 927
        },
        "id": "Reh6GkwNPnZr",
        "outputId": "26e3af0a-65b7-4075-b3b4-f1bc2d317179"
      },
      "execution_count": 53,
      "outputs": [
        {
          "output_type": "display_data",
          "data": {
            "text/plain": [
              "<Figure size 640x480 with 1 Axes>"
            ],
            "image/png": "[encoded data removed]"
          },
          "metadata": {}
        },
        {
          "output_type": "display_data",
          "data": {
            "text/plain": [
              "<Figure size 640x480 with 1 Axes>"
            ],
            "image/png": "[encoded data removed]"
          },
          "metadata": {}
        }
      ]
    },
    {
      "cell_type": "code",
      "source": [],
      "metadata": {
        "id": "Hnp_f1mvP72J"
      },
      "execution_count": null,
      "outputs": []
    }
  ]
}